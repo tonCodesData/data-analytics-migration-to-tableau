{
 "cells": [
  {
   "cell_type": "code",
   "execution_count": 2,
   "metadata": {},
   "outputs": [],
   "source": [
    "import pandas as pd\n",
    "import os"
   ]
  },
  {
   "cell_type": "code",
   "execution_count": 3,
   "metadata": {},
   "outputs": [],
   "source": [
    "# %% list dirs\n",
    "csvs = [x for x in os.listdir('data-analytics-files/')]\n",
    "\n",
    "# %%\n",
    "fnames = [\"df_\"+os.path.splitext(os.path.basename(csv))[0] for csv in csvs]\n",
    "\n",
    "# %% get the path, dir list and file list\n",
    "# path, dirs, files = next(os.walk(\"D:\\\\AiCore\\\\final_project\\\\data-analytics-files\"))\n",
    "# %% make a df_list for appending the df from each file\n",
    "df_dict = {}"
   ]
  },
  {
   "cell_type": "code",
   "execution_count": 4,
   "metadata": {},
   "outputs": [
    {
     "data": {
      "text/plain": [
       "['1987.csv',\n",
       " '1989.csv',\n",
       " '1990.csv',\n",
       " '1991.csv',\n",
       " '1992.csv',\n",
       " '1993.csv',\n",
       " '1994.csv',\n",
       " '1995.csv',\n",
       " '1996.csv']"
      ]
     },
     "execution_count": 4,
     "metadata": {},
     "output_type": "execute_result"
    }
   ],
   "source": [
    "csvs"
   ]
  },
  {
   "cell_type": "code",
   "execution_count": 5,
   "metadata": {},
   "outputs": [
    {
     "data": {
      "text/plain": [
       "['df_1987',\n",
       " 'df_1989',\n",
       " 'df_1990',\n",
       " 'df_1991',\n",
       " 'df_1992',\n",
       " 'df_1993',\n",
       " 'df_1994',\n",
       " 'df_1995',\n",
       " 'df_1996']"
      ]
     },
     "execution_count": 5,
     "metadata": {},
     "output_type": "execute_result"
    }
   ],
   "source": [
    "fnames"
   ]
  },
  {
   "cell_type": "code",
   "execution_count": 11,
   "metadata": {},
   "outputs": [],
   "source": [
    "path, dirs, files = next(os.walk(\"D:\\\\AiCore\\\\final_project\\\\data-analytics-files\"))"
   ]
  },
  {
   "cell_type": "code",
   "execution_count": 12,
   "metadata": {},
   "outputs": [],
   "source": [
    "df_ls = []"
   ]
  },
  {
   "cell_type": "code",
   "execution_count": 14,
   "metadata": {},
   "outputs": [
    {
     "name": "stdout",
     "output_type": "stream",
     "text": [
      "Unexpected exception formatting exception. Falling back to standard exception\n"
     ]
    },
    {
     "name": "stderr",
     "output_type": "stream",
     "text": [
      "Traceback (most recent call last):\n",
      "  File \"c:\\Users\\joyet\\miniconda3\\envs\\data\\lib\\site-packages\\IPython\\core\\interactiveshell.py\", line 3460, in run_code\n",
      "    exec(code_obj, self.user_global_ns, self.user_ns)\n",
      "  File \"C:\\Users\\joyet\\AppData\\Local\\Temp\\ipykernel_11956\\4208389027.py\", line 2, in <module>\n",
      "    temp_df = pd.read_csv(\"D:\\\\AiCore\\\\final_project\\\\data-analytics-files\\\\\" + files[i])\n",
      "  File \"c:\\Users\\joyet\\miniconda3\\envs\\data\\lib\\site-packages\\pandas\\util\\_decorators.py\", line 211, in wrapper\n",
      "    return func(*args, **kwargs)\n",
      "  File \"c:\\Users\\joyet\\miniconda3\\envs\\data\\lib\\site-packages\\pandas\\util\\_decorators.py\", line 331, in wrapper\n",
      "    return func(*args, **kwargs)\n",
      "  File \"c:\\Users\\joyet\\miniconda3\\envs\\data\\lib\\site-packages\\pandas\\io\\parsers\\readers.py\", line 950, in read_csv\n",
      "    return _read(filepath_or_buffer, kwds)\n",
      "  File \"c:\\Users\\joyet\\miniconda3\\envs\\data\\lib\\site-packages\\pandas\\io\\parsers\\readers.py\", line 611, in _read\n",
      "    return parser.read(nrows)\n",
      "  File \"c:\\Users\\joyet\\miniconda3\\envs\\data\\lib\\site-packages\\pandas\\io\\parsers\\readers.py\", line 1795, in read\n",
      "    df = DataFrame(col_dict, columns=columns, index=index)\n",
      "  File \"c:\\Users\\joyet\\miniconda3\\envs\\data\\lib\\site-packages\\pandas\\core\\frame.py\", line 664, in __init__\n",
      "    mgr = dict_to_mgr(data, index, columns, dtype=dtype, copy=copy, typ=manager)\n",
      "  File \"c:\\Users\\joyet\\miniconda3\\envs\\data\\lib\\site-packages\\pandas\\core\\internals\\construction.py\", line 493, in dict_to_mgr\n",
      "    return arrays_to_mgr(arrays, columns, index, dtype=dtype, typ=typ, consolidate=copy)\n",
      "  File \"c:\\Users\\joyet\\miniconda3\\envs\\data\\lib\\site-packages\\pandas\\core\\internals\\construction.py\", line 154, in arrays_to_mgr\n",
      "    return create_block_manager_from_column_arrays(\n",
      "  File \"c:\\Users\\joyet\\miniconda3\\envs\\data\\lib\\site-packages\\pandas\\core\\internals\\managers.py\", line 2204, in create_block_manager_from_column_arrays\n",
      "    mgr._consolidate_inplace()\n",
      "  File \"c:\\Users\\joyet\\miniconda3\\envs\\data\\lib\\site-packages\\pandas\\core\\internals\\managers.py\", line 1871, in _consolidate_inplace\n",
      "    self.blocks = _consolidate(self.blocks)\n",
      "  File \"c:\\Users\\joyet\\miniconda3\\envs\\data\\lib\\site-packages\\pandas\\core\\internals\\managers.py\", line 2329, in _consolidate\n",
      "    merged_blocks, _ = _merge_blocks(\n",
      "  File \"c:\\Users\\joyet\\miniconda3\\envs\\data\\lib\\site-packages\\pandas\\core\\internals\\managers.py\", line 2381, in _merge_blocks\n",
      "    new_values = np.vstack([b.values for b in blocks])  # type: ignore[misc]\n",
      "  File \"<__array_function__ internals>\", line 200, in vstack\n",
      "  File \"c:\\Users\\joyet\\miniconda3\\envs\\data\\lib\\site-packages\\numpy\\core\\shape_base.py\", line 296, in vstack\n",
      "    return _nx.concatenate(arrs, 0, dtype=dtype, casting=casting)\n",
      "  File \"<__array_function__ internals>\", line 200, in concatenate\n",
      "numpy.core._exceptions._ArrayMemoryError: Unable to allocate 632. MiB for an array with shape (16, 5180048) and data type float64\n",
      "\n",
      "During handling of the above exception, another exception occurred:\n",
      "\n",
      "Traceback (most recent call last):\n",
      "  File \"c:\\Users\\joyet\\miniconda3\\envs\\data\\lib\\site-packages\\IPython\\core\\interactiveshell.py\", line 2057, in showtraceback\n",
      "    stb = self.InteractiveTB.structured_traceback(\n",
      "  File \"c:\\Users\\joyet\\miniconda3\\envs\\data\\lib\\site-packages\\IPython\\core\\ultratb.py\", line 1118, in structured_traceback\n",
      "    return FormattedTB.structured_traceback(\n",
      "  File \"c:\\Users\\joyet\\miniconda3\\envs\\data\\lib\\site-packages\\IPython\\core\\ultratb.py\", line 1012, in structured_traceback\n",
      "    return VerboseTB.structured_traceback(\n",
      "  File \"c:\\Users\\joyet\\miniconda3\\envs\\data\\lib\\site-packages\\IPython\\core\\ultratb.py\", line 865, in structured_traceback\n",
      "    formatted_exception = self.format_exception_as_a_whole(etype, evalue, etb, number_of_lines_of_context,\n",
      "  File \"c:\\Users\\joyet\\miniconda3\\envs\\data\\lib\\site-packages\\IPython\\core\\ultratb.py\", line 818, in format_exception_as_a_whole\n",
      "    frames.append(self.format_record(r))\n",
      "  File \"c:\\Users\\joyet\\miniconda3\\envs\\data\\lib\\site-packages\\IPython\\core\\ultratb.py\", line 736, in format_record\n",
      "    result += ''.join(_format_traceback_lines(frame_info.lines, Colors, self.has_colors, lvals))\n",
      "  File \"c:\\Users\\joyet\\miniconda3\\envs\\data\\lib\\site-packages\\stack_data\\utils.py\", line 144, in cached_property_wrapper\n",
      "    value = obj.__dict__[self.func.__name__] = self.func(obj)\n",
      "  File \"c:\\Users\\joyet\\miniconda3\\envs\\data\\lib\\site-packages\\stack_data\\core.py\", line 734, in lines\n",
      "    pieces = self.included_pieces\n",
      "  File \"c:\\Users\\joyet\\miniconda3\\envs\\data\\lib\\site-packages\\stack_data\\utils.py\", line 144, in cached_property_wrapper\n",
      "    value = obj.__dict__[self.func.__name__] = self.func(obj)\n",
      "  File \"c:\\Users\\joyet\\miniconda3\\envs\\data\\lib\\site-packages\\stack_data\\core.py\", line 677, in included_pieces\n",
      "    scope_pieces = self.scope_pieces\n",
      "  File \"c:\\Users\\joyet\\miniconda3\\envs\\data\\lib\\site-packages\\stack_data\\utils.py\", line 144, in cached_property_wrapper\n",
      "    value = obj.__dict__[self.func.__name__] = self.func(obj)\n",
      "  File \"c:\\Users\\joyet\\miniconda3\\envs\\data\\lib\\site-packages\\stack_data\\core.py\", line 614, in scope_pieces\n",
      "    scope_start, scope_end = self.source.line_range(self.scope)\n",
      "  File \"c:\\Users\\joyet\\miniconda3\\envs\\data\\lib\\site-packages\\stack_data\\core.py\", line 178, in line_range\n",
      "    return line_range(self.asttext(), node)\n",
      "AttributeError: 'Source' object has no attribute 'asttext'\n"
     ]
    }
   ],
   "source": [
    "for i in range(len(files)):\n",
    "    temp_df = pd.read_csv(\"D:\\\\AiCore\\\\final_project\\\\data-analytics-files\\\\\" + files[i])\n",
    "    df_ls.append(temp_df)"
   ]
  },
  {
   "cell_type": "code",
   "execution_count": 8,
   "metadata": {},
   "outputs": [],
   "source": [
    "df_dict = {}"
   ]
  },
  {
   "cell_type": "code",
   "execution_count": 10,
   "metadata": {},
   "outputs": [
    {
     "name": "stdout",
     "output_type": "stream",
     "text": [
      "Unexpected exception formatting exception. Falling back to standard exception\n"
     ]
    },
    {
     "name": "stderr",
     "output_type": "stream",
     "text": [
      "Traceback (most recent call last):\n",
      "  File \"c:\\Users\\joyet\\miniconda3\\envs\\data\\lib\\site-packages\\IPython\\core\\interactiveshell.py\", line 3460, in run_code\n",
      "    exec(code_obj, self.user_global_ns, self.user_ns)\n",
      "  File \"C:\\Users\\joyet\\AppData\\Local\\Temp\\ipykernel_11956\\1840427747.py\", line 3, in <module>\n",
      "    df_dict[fnames[i]] = pd.read_csv(\"D:\\\\AiCore\\\\final_project\\\\data-analytics-files\\\\\" + csvs[i])\n",
      "TypeError: unhashable type: 'DataFrame'\n",
      "\n",
      "During handling of the above exception, another exception occurred:\n",
      "\n",
      "Traceback (most recent call last):\n",
      "  File \"c:\\Users\\joyet\\miniconda3\\envs\\data\\lib\\site-packages\\IPython\\core\\interactiveshell.py\", line 2057, in showtraceback\n",
      "    stb = self.InteractiveTB.structured_traceback(\n",
      "  File \"c:\\Users\\joyet\\miniconda3\\envs\\data\\lib\\site-packages\\IPython\\core\\ultratb.py\", line 1118, in structured_traceback\n",
      "    return FormattedTB.structured_traceback(\n",
      "  File \"c:\\Users\\joyet\\miniconda3\\envs\\data\\lib\\site-packages\\IPython\\core\\ultratb.py\", line 1012, in structured_traceback\n",
      "    return VerboseTB.structured_traceback(\n",
      "  File \"c:\\Users\\joyet\\miniconda3\\envs\\data\\lib\\site-packages\\IPython\\core\\ultratb.py\", line 865, in structured_traceback\n",
      "    formatted_exception = self.format_exception_as_a_whole(etype, evalue, etb, number_of_lines_of_context,\n",
      "  File \"c:\\Users\\joyet\\miniconda3\\envs\\data\\lib\\site-packages\\IPython\\core\\ultratb.py\", line 818, in format_exception_as_a_whole\n",
      "    frames.append(self.format_record(r))\n",
      "  File \"c:\\Users\\joyet\\miniconda3\\envs\\data\\lib\\site-packages\\IPython\\core\\ultratb.py\", line 736, in format_record\n",
      "    result += ''.join(_format_traceback_lines(frame_info.lines, Colors, self.has_colors, lvals))\n",
      "  File \"c:\\Users\\joyet\\miniconda3\\envs\\data\\lib\\site-packages\\stack_data\\utils.py\", line 144, in cached_property_wrapper\n",
      "    value = obj.__dict__[self.func.__name__] = self.func(obj)\n",
      "  File \"c:\\Users\\joyet\\miniconda3\\envs\\data\\lib\\site-packages\\stack_data\\core.py\", line 734, in lines\n",
      "    pieces = self.included_pieces\n",
      "  File \"c:\\Users\\joyet\\miniconda3\\envs\\data\\lib\\site-packages\\stack_data\\utils.py\", line 144, in cached_property_wrapper\n",
      "    value = obj.__dict__[self.func.__name__] = self.func(obj)\n",
      "  File \"c:\\Users\\joyet\\miniconda3\\envs\\data\\lib\\site-packages\\stack_data\\core.py\", line 677, in included_pieces\n",
      "    scope_pieces = self.scope_pieces\n",
      "  File \"c:\\Users\\joyet\\miniconda3\\envs\\data\\lib\\site-packages\\stack_data\\utils.py\", line 144, in cached_property_wrapper\n",
      "    value = obj.__dict__[self.func.__name__] = self.func(obj)\n",
      "  File \"c:\\Users\\joyet\\miniconda3\\envs\\data\\lib\\site-packages\\stack_data\\core.py\", line 614, in scope_pieces\n",
      "    scope_start, scope_end = self.source.line_range(self.scope)\n",
      "  File \"c:\\Users\\joyet\\miniconda3\\envs\\data\\lib\\site-packages\\stack_data\\core.py\", line 178, in line_range\n",
      "    return line_range(self.asttext(), node)\n",
      "AttributeError: 'Source' object has no attribute 'asttext'\n"
     ]
    }
   ],
   "source": [
    "#%%\n",
    "for i in range(len(csvs)):\n",
    "    df_dict[fnames[i]] = pd.read_csv(\"D:\\\\AiCore\\\\final_project\\\\data-analytics-files\\\\\" + csvs[i])"
   ]
  },
  {
   "cell_type": "code",
   "execution_count": null,
   "metadata": {},
   "outputs": [],
   "source": []
  }
 ],
 "metadata": {
  "kernelspec": {
   "display_name": "data",
   "language": "python",
   "name": "python3"
  },
  "language_info": {
   "codemirror_mode": {
    "name": "ipython",
    "version": 3
   },
   "file_extension": ".py",
   "mimetype": "text/x-python",
   "name": "python",
   "nbconvert_exporter": "python",
   "pygments_lexer": "ipython3",
   "version": "3.9.16"
  },
  "orig_nbformat": 4
 },
 "nbformat": 4,
 "nbformat_minor": 2
}
